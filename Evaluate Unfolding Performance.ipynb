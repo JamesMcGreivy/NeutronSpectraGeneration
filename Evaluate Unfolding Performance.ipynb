{
 "cells": [
  {
   "cell_type": "code",
   "execution_count": 1,
   "metadata": {},
   "outputs": [],
   "source": [
    "from sklearn.model_selection import ShuffleSplit\n",
    "from tensorflow.keras.callbacks import EarlyStopping\n",
    "from bayes_opt import BayesianOptimization\n",
    "from bayes_opt.logger import JSONLogger\n",
    "from bayes_opt.event import Events\n",
    "from tensorflow.keras.optimizers import Adam\n",
    "from sklearn import metrics\n",
    "import numpy as np\n",
    "import tensorflow as tf\n",
    "tf.compat.v1.logging.set_verbosity(tf.compat.v1.logging.ERROR)\n",
    "\n",
    "import unfolding_network\n",
    "import data_generation\n",
    "import constants\n",
    "\n",
    "import sys\n",
    "sys.path.append(constants.HOME_DIR)"
   ]
  },
  {
   "cell_type": "code",
   "execution_count": 2,
   "metadata": {},
   "outputs": [],
   "source": [
    "xeval, yeval = None, None\n",
    "xother, yother = None, None\n",
    "\n",
    "def shuffle_test_data():\n",
    "    global xeval, yeval, xother, yother\n",
    "    x,y = data_generation.x_data_IAEA, data_generation.y_data_IAEA\n",
    "    boot = ShuffleSplit(n_splits = 1, test_size = 0.5)\n",
    "    for other, test in boot.split(x):\n",
    "        xeval, yeval = x[test], y[test]\n",
    "        xother, yother = x[other], y[other]\n",
    "        return\n",
    "\n",
    "shuffle_test_data()"
   ]
  },
  {
   "cell_type": "code",
   "execution_count": null,
   "metadata": {},
   "outputs": [],
   "source": [
    "def evaluate(algorithm):\n",
    "    \n",
    "    trials = 3\n",
    "    \n",
    "    benchmark = []\n",
    "    models = []\n",
    "    \n",
    "    data_points = 500\n",
    "    xdata, ydata = algorithm(data_points, yother)\n",
    "    \n",
    "    boot = ShuffleSplit(n_splits = trials, test_size = 0.2)\n",
    "    trial = 0\n",
    "    for train, test in boot.split(xdata):\n",
    "        \n",
    "        trial += 1\n",
    "        \n",
    "        xtrain, ytrain = xdata[train], ydata[train]\n",
    "        xtest, ytest = xdata[test], ydata[test]\n",
    "        \n",
    "        print(\"Starting {} ...\".format(trial))\n",
    "        \n",
    "        model = unfolding_network.generate_model(**constants.OPT_PARAMS_UNFOLD)\n",
    "        \n",
    "        model.compile(loss = \"mse\", optimizer = Adam(learning_rate=constants.OPT_PARAMS_UNFOLD[\"lr\"]))\n",
    "        \n",
    "        monitor = EarlyStopping(monitor='val_loss', min_delta=1e-4,\n",
    "                                patience=500, verbose=0, mode='min',\n",
    "                                restore_best_weights=True)\n",
    "        \n",
    "        model.fit(xtrain,ytrain,validation_data=(xtest,ytest),\n",
    "                  callbacks=[monitor],verbose=0,epochs=5000,\n",
    "                  batch_size=int(constants.OPT_PARAMS_UNFOLD[\"batch_size\"]))\n",
    "        \n",
    "        pred = model.predict(xeval)\n",
    "        \n",
    "        score = metrics.mean_squared_error(yeval, pred)\n",
    "        \n",
    "        benchmark.append(score)\n",
    "        \n",
    "        models.append(model)\n",
    "    \n",
    "    return np.mean(benchmark), np.std(benchmark), models\n",
    "    \n",
    "    \n",
    "    "
   ]
  }
 ],
 "metadata": {
  "kernelspec": {
   "display_name": "OpenCE",
   "language": "python",
   "name": "python3"
  },
  "language_info": {
   "codemirror_mode": {
    "name": "ipython",
    "version": 3
   },
   "file_extension": ".py",
   "mimetype": "text/x-python",
   "name": "python",
   "nbconvert_exporter": "python",
   "pygments_lexer": "ipython3",
   "version": "3.7.10"
  }
 },
 "nbformat": 4,
 "nbformat_minor": 4
}
